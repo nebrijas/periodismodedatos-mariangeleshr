{
 "cells": [
  {
   "cell_type": "markdown",
   "id": "1e559029",
   "metadata": {},
   "source": [
    "# Practica de Web Scrapping"
   ]
  },
  {
   "cell_type": "markdown",
   "id": "c73c3cc6",
   "metadata": {},
   "source": [
    "## Importar librería "
   ]
  },
  {
   "cell_type": "markdown",
   "id": "1d74a1fc",
   "metadata": {},
   "source": [
    "Ahora importo la librería [requests](https://docs.python-requests.org/en/latest/)"
   ]
  },
  {
   "cell_type": "code",
   "execution_count": 1,
   "id": "ba390dad",
   "metadata": {},
   "outputs": [],
   "source": [
    "import requests"
   ]
  },
  {
   "cell_type": "markdown",
   "id": "ddd970f1",
   "metadata": {},
   "source": [
    "La librería requests es una biblioteca HTTP para el lenguaje de Python"
   ]
  },
  {
   "cell_type": "markdown",
   "id": "58527eb6",
   "metadata": {},
   "source": [
    "Voy a importar de la libreria [bs4](https://www.crummy.com/software/BeautifulSoup/bs4/doc/) `BeautifulSoup`"
   ]
  },
  {
   "cell_type": "code",
   "execution_count": 2,
   "id": "77165c70",
   "metadata": {},
   "outputs": [],
   "source": [
    "from bs4 import BeautifulSoup"
   ]
  },
  {
   "cell_type": "markdown",
   "id": "474917d1",
   "metadata": {},
   "source": [
    "La biblioteca `BeautifulSoup` está enfocada al análisis de documentos HTML, por lo que es útil para extraer información\n",
    "y realizar web scrapping"
   ]
  },
  {
   "cell_type": "markdown",
   "id": "c93d448d",
   "metadata": {},
   "source": [
    "## Variables"
   ]
  },
  {
   "cell_type": "markdown",
   "id": "58ee0e1b",
   "metadata": {},
   "source": [
    "Las variables son etiquetas en el lenguaje de programación Python, esto hace referencia a los datos seleccionados"
   ]
  },
  {
   "cell_type": "markdown",
   "id": "066ffdba",
   "metadata": {},
   "source": [
    "Explicación de variables"
   ]
  },
  {
   "cell_type": "markdown",
   "id": "d2aaad3f",
   "metadata": {},
   "source": [
    "### Definimos URL"
   ]
  },
  {
   "cell_type": "markdown",
   "id": "356d084d",
   "metadata": {},
   "source": [
    "Al definir la URL realizaremos el web scrapping a la dirección web deseada"
   ]
  },
  {
   "cell_type": "code",
   "execution_count": 3,
   "id": "e7a0d629",
   "metadata": {},
   "outputs": [],
   "source": [
    "URL = \"https://resultados.elpais.com/deportivos/juegos-olimpicos/medallero/\""
   ]
  },
  {
   "cell_type": "markdown",
   "id": "a8cd0c49",
   "metadata": {},
   "source": [
    "### Realizamos la petición a la web\n"
   ]
  },
  {
   "cell_type": "markdown",
   "id": "cb449979",
   "metadata": {},
   "source": [
    "Realizamos la petición web a la variable mencionada."
   ]
  },
  {
   "cell_type": "code",
   "execution_count": null,
   "id": "ded7e366",
   "metadata": {},
   "outputs": [],
   "source": [
    "req = requests.get(URL)"
   ]
  },
  {
   "cell_type": "markdown",
   "id": "6d5faf08",
   "metadata": {},
   "source": [
    "El request recoge la petición a la URL"
   ]
  },
  {
   "cell_type": "markdown",
   "id": "5b1596f7",
   "metadata": {},
   "source": [
    "Si el estatus code no es `200` no se puede leer la página. Para leer la página es necesario que el estatus code sea `200`, sino será imposible realizar el web scrapping"
   ]
  },
  {
   "cell_type": "code",
   "execution_count": 4,
   "id": "dee475c1",
   "metadata": {},
   "outputs": [],
   "source": [
    "if (req.status_code != 200):\n",
    "    raise Exception(\"No se puede hacer Web Scraping en\"+ URL)"
   ]
  },
  {
   "cell_type": "code",
   "execution_count": null,
   "id": "d8e82477",
   "metadata": {},
   "outputs": [],
   "source": [
    "Si falla la petición a la página aparecerá el mensaje (\"No se puede hacer Web Scraping en\"+ URL). "
   ]
  },
  {
   "cell_type": "markdown",
   "id": "5c9c7c44",
   "metadata": {},
   "source": [
    "### De request a beautifulsoup"
   ]
  },
  {
   "cell_type": "markdown",
   "id": "6fc45dda",
   "metadata": {},
   "source": [
    "Pasamos el contenido HTML de la web a un contenido `BeautifulSoup()`"
   ]
  },
  {
   "cell_type": "markdown",
   "id": "8309dc8a",
   "metadata": {},
   "source": [
    "html es una variable que hemos definido previamente"
   ]
  },
  {
   "cell_type": "code",
   "execution_count": 5,
   "id": "33ede272",
   "metadata": {},
   "outputs": [],
   "source": [
    "html = BeautifulSoup(req.text, \"html.parser\")"
   ]
  },
  {
   "cell_type": "markdown",
   "id": "c8ae18ec",
   "metadata": {},
   "source": [
    "#### Variables de datos"
   ]
  },
  {
   "cell_type": "markdown",
   "id": "f4081df5",
   "metadata": {},
   "source": [
    "Definimos las variables `paises`, `oros`, `platas`, `bronces` y `totales` y las identificamos con la función find_all()"
   ]
  },
  {
   "cell_type": "markdown",
   "id": "f3f49e1c",
   "metadata": {},
   "source": [
    ".find_all recoge los datos de esas variables"
   ]
  },
  {
   "cell_type": "code",
   "execution_count": 6,
   "id": "68e99c8c",
   "metadata": {},
   "outputs": [],
   "source": [
    "paises = html.find_all(\"th\",{\"class\":\"pais\"})\n",
    "oros = html.find_all(\"td\",{\"class\":\"m_oro\"})\n",
    "platas = html.find_all(\"td\",{\"class\":\"m_plata\"})\n",
    "bronces = html.find_all(\"td\",{\"class\":\"m_bronce\"})\n",
    "totales = html.find_all(\"td\",{\"class\":\"m_total\"})"
   ]
  },
  {
   "cell_type": "markdown",
   "id": "2e24eacd",
   "metadata": {},
   "source": [
    "### Hacemos la pregunta"
   ]
  },
  {
   "cell_type": "markdown",
   "id": "02d940ae",
   "metadata": {},
   "source": [
    "El input recoge los datos introducidos por pantalla"
   ]
  },
  {
   "cell_type": "code",
   "execution_count": null,
   "id": "5a36b9bf",
   "metadata": {},
   "outputs": [],
   "source": [
    "respuesta=input('¿QUIERES CONOCER LOS 20 PAÍSES QUE HAN OBTENIDO MÁS MEDALLAS EN 2020?\\n \\n Si tu respuesta es Sí, presiona \"s\" \\n')"
   ]
  },
  {
   "cell_type": "markdown",
   "id": "0a06a342",
   "metadata": {},
   "source": [
    "Si introducimos s,la variable respuesta recogerá la s y mostrará el listado de los JJOO de 2020"
   ]
  },
  {
   "cell_type": "markdown",
   "id": "6249f1dd",
   "metadata": {},
   "source": [
    "Al presionar 's' mostrará en pantalla la siguiente frase \"RESULTADOS DE LOS DATOS DE LOS JUEGOS OLÍMPICOS 2020\""
   ]
  },
  {
   "cell_type": "code",
   "execution_count": 7,
   "id": "7a1b6c2b",
   "metadata": {},
   "outputs": [
    {
     "name": "stdout",
     "output_type": "stream",
     "text": [
      "¿QUIERES CONOCER LOS 20 PAÍSES QUE HAN OBTENIDO MÁS MEDALLAS EN 2020?\n",
      " \n",
      " Si tu respuesta es Sí, presiona \"s\" \n",
      "n\n"
     ]
    }
   ],
   "source": [
    "if(respuesta == 's'): \n",
    "  print('\\nRESULTADOS DE LOS DATOS DE LOS JUEGOS OLÍMPICOS 2020\\n')"
   ]
  },
  {
   "cell_type": "markdown",
   "id": "2a2d917f",
   "metadata": {},
   "source": [
    "#### Bucle para datos"
   ]
  },
  {
   "cell_type": "markdown",
   "id": "62a05426",
   "metadata": {},
   "source": [
    "Obtenemos todos los divs donde están las entradas"
   ]
  },
  {
   "cell_type": "markdown",
   "id": "b23fd4e1",
   "metadata": {},
   "source": [
    "Imprime en la pantalla los siguientes mensajes:"
   ]
  },
  {
   "cell_type": "code",
   "execution_count": null,
   "id": "c6b042c4",
   "metadata": {},
   "outputs": [],
   "source": [
    "print('\\nRESULTADOS DE LOS DATOS DE LOS JUEGOS OLÍMPICOS 2020\\n')\n",
    "print ('PAÍSES')"
   ]
  },
  {
   "cell_type": "code",
   "execution_count": null,
   "id": "ffcb0441",
   "metadata": {},
   "outputs": [],
   "source": [
    "for i in range repetirá todo lo que hay dentro del for 20 veces, por lo que solo mostrará los 20 primeros países \n",
    "que hayamos recogido."
   ]
  },
  {
   "cell_type": "code",
   "execution_count": 8,
   "id": "543a2d21",
   "metadata": {},
   "outputs": [
    {
     "name": "stdout",
     "output_type": "stream",
     "text": [
      "\n",
      "RESULTADOS DE LOS DATOS DE LOS JUEGOS OLÍMPICOS 2020\n",
      "\n",
      "PAÍSES\n",
      "1. Estados Unidos \n",
      "Oro: 39 Plata: 41 Bronce: 33 \n",
      " Total: 113 \n",
      " \n",
      "2. China \n",
      "Oro: 38 Plata: 32 Bronce: 18 \n",
      " Total: 88 \n",
      " \n",
      "3. Japón \n",
      "Oro: 27 Plata: 14 Bronce: 17 \n",
      " Total: 58 \n",
      " \n",
      "4. Reino Unido \n",
      "Oro: 22 Plata: 21 Bronce: 22 \n",
      " Total: 65 \n",
      " \n",
      "5. ROC \n",
      "Oro: 20 Plata: 28 Bronce: 23 \n",
      " Total: 71 \n",
      " \n",
      "6. Australia \n",
      "Oro: 17 Plata: 7 Bronce: 22 \n",
      " Total: 46 \n",
      " \n",
      "7. Países Bajos \n",
      "Oro: 10 Plata: 12 Bronce: 14 \n",
      " Total: 36 \n",
      " \n",
      "8. Francia \n",
      "Oro: 10 Plata: 12 Bronce: 11 \n",
      " Total: 33 \n",
      " \n",
      "9. Alemania \n",
      "Oro: 10 Plata: 11 Bronce: 16 \n",
      " Total: 37 \n",
      " \n",
      "10. Italia \n",
      "Oro: 10 Plata: 10 Bronce: 20 \n",
      " Total: 40 \n",
      " \n",
      "11. Canadá \n",
      "Oro: 7 Plata: 6 Bronce: 11 \n",
      " Total: 24 \n",
      " \n",
      "12. Brasil \n",
      "Oro: 7 Plata: 6 Bronce: 8 \n",
      " Total: 21 \n",
      " \n",
      "13. Nueva Zelanda \n",
      "Oro: 7 Plata: 6 Bronce: 7 \n",
      " Total: 20 \n",
      " \n",
      "14. Cuba \n",
      "Oro: 7 Plata: 3 Bronce: 5 \n",
      " Total: 15 \n",
      " \n",
      "15. Hungría \n",
      "Oro: 6 Plata: 7 Bronce: 7 \n",
      " Total: 20 \n",
      " \n",
      "16. Corea del Sur \n",
      "Oro: 6 Plata: 4 Bronce: 10 \n",
      " Total: 20 \n",
      " \n",
      "17. Polonia \n",
      "Oro: 4 Plata: 5 Bronce: 5 \n",
      " Total: 14 \n",
      " \n",
      "18. República Checa \n",
      "Oro: 4 Plata: 4 Bronce: 3 \n",
      " Total: 11 \n",
      " \n",
      "19. Kenia \n",
      "Oro: 4 Plata: 4 Bronce: 2 \n",
      " Total: 10 \n",
      " \n",
      "20. Noruega \n",
      "Oro: 4 Plata: 2 Bronce: 2 \n",
      " Total: 8 \n",
      " \n",
      "Qué lástima, y...\n"
     ]
    }
   ],
   "source": [
    "for i in range (20):\n",
    "    # Con el método \"getText()\" no nos devuelve el HTML\n",
    "    print(\"%d. %s \\nOro: %s Plata: %s Bronce: %s \\n Total: %s \\n \" % (i+1, paises[i+1].text.strip(),oros[i].text.strip(),platas[i].text.strip(),bronces[i].text.strip(), totales[i].text.strip()))\n",
    "\n",
    "else:\n",
    "    print('Qué lástima, y...')\n"
   ]
  },
  {
   "cell_type": "markdown",
   "id": "6d30e485",
   "metadata": {},
   "source": [
    "[Enlace al código en bruto](https://github.com/nebrijas/periodismodedatos-mariangeleshr/blob/main/AD2/AD2_Herrera_Mar%C3%ADa_%C3%81ngeles.md)"
   ]
  }
 ],
 "metadata": {
  "kernelspec": {
   "display_name": "Python 3 (ipykernel)",
   "language": "python",
   "name": "python3"
  },
  "language_info": {
   "codemirror_mode": {
    "name": "ipython",
    "version": 3
   },
   "file_extension": ".py",
   "mimetype": "text/x-python",
   "name": "python",
   "nbconvert_exporter": "python",
   "pygments_lexer": "ipython3",
   "version": "3.9.7"
  }
 },
 "nbformat": 4,
 "nbformat_minor": 5
}
