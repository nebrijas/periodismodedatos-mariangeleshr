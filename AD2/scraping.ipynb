{
 "cells": [
  {
   "cell_type": "markdown",
   "id": "1e559029",
   "metadata": {},
   "source": [
    "# Practica de Web Scrapping"
   ]
  },
  {
   "cell_type": "markdown",
   "id": "c73c3cc6",
   "metadata": {},
   "source": [
    "## Importar librería "
   ]
  },
  {
   "cell_type": "markdown",
   "id": "1d74a1fc",
   "metadata": {},
   "source": [
    "Para comenzar con esta actividad de web scrapping procedemos a importar la librería [requests](https://docs.python-requests.org/en/latest/). Esta librería es una biblioteca HTTP para el lenguaje Python, con ello la integración con la web es mucho más cómoda."
   ]
  },
  {
   "cell_type": "code",
   "execution_count": 2,
   "id": "ba390dad",
   "metadata": {},
   "outputs": [],
   "source": [
    "import requests"
   ]
  },
  {
   "cell_type": "markdown",
   "id": "58527eb6",
   "metadata": {},
   "source": [
    "Importamos la libreria [bs4](https://www.crummy.com/software/BeautifulSoup/bs4/doc/) `BeautifulSoup`. La biblioteca `BeautifulSoup` está enfocada al análisis de documentos HTML, por lo que es útil para extraer información y realizar web scrapping. Esta librería nos permite obtener información en formato HTML."
   ]
  },
  {
   "cell_type": "code",
   "execution_count": 3,
   "id": "77165c70",
   "metadata": {},
   "outputs": [],
   "source": [
    "from bs4 import BeautifulSoup"
   ]
  },
  {
   "cell_type": "markdown",
   "id": "c93d448d",
   "metadata": {},
   "source": [
    "## Variables"
   ]
  },
  {
   "cell_type": "markdown",
   "id": "6ce5498b",
   "metadata": {},
   "source": [
    "A continuación definimos las variables que vamos a utilizar. Las variables son etiquetas en el lenguaje de programación Python, hacen referencia a los datos seleccionados. Gracias a estas etiquetas podemos clasificar los datos de cada país. Las variables utilizadas han sido las siguientes: `paises`, `oros`, `platas`, `bronces` y `totales`"
   ]
  },
  {
   "cell_type": "markdown",
   "id": "d2aaad3f",
   "metadata": {},
   "source": [
    "### Definimos URL"
   ]
  },
  {
   "cell_type": "markdown",
   "id": "356d084d",
   "metadata": {},
   "source": [
    "Al definir la URL realizaremos el web scrapping a la dirección web deseada."
   ]
  },
  {
   "cell_type": "code",
   "execution_count": 4,
   "id": "e7a0d629",
   "metadata": {},
   "outputs": [],
   "source": [
    "URL = \"https://resultados.elpais.com/deportivos/juegos-olimpicos/medallero/\""
   ]
  },
  {
   "cell_type": "markdown",
   "id": "a8cd0c49",
   "metadata": {},
   "source": [
    "### Realizamos la petición a la web\n"
   ]
  },
  {
   "cell_type": "markdown",
   "id": "cb449979",
   "metadata": {},
   "source": [
    "Al realizar la petición mediante `request.get` se envía esta petición al servidor mediante la etiqueta `get`. Con esta solicitud obtenemos los datos de la web en formato HTML. Obtenemos respuesta gracias a que el status code es igual a 200. Si el estatus code no es `200` no se puede leer la página. Para leer la página es necesario que el estatus code sea `200`, sino será imposible realizar el web scrapping"
   ]
  },
  {
   "cell_type": "code",
   "execution_count": 5,
   "id": "ded7e366",
   "metadata": {},
   "outputs": [],
   "source": [
    "req = requests.get(URL)"
   ]
  },
  {
   "cell_type": "markdown",
   "id": "854ba79d",
   "metadata": {},
   "source": [
    "Como he mencionado si el status code es 200 se realizará el web scrapping. Por lo que si falla la petición a la página aparecerá el mensaje (\"No se puede hacer Web Scraping en\"+ URL). "
   ]
  },
  {
   "cell_type": "code",
   "execution_count": 6,
   "id": "dee475c1",
   "metadata": {},
   "outputs": [],
   "source": [
    "if (req.status_code != 200):\n",
    "    raise Exception(\"No se puede hacer Web Scraping en\"+ URL)"
   ]
  },
  {
   "cell_type": "markdown",
   "id": "5c9c7c44",
   "metadata": {},
   "source": [
    "### De request a beautifulsoup"
   ]
  },
  {
   "cell_type": "markdown",
   "id": "6fc45dda",
   "metadata": {},
   "source": [
    "Convertimos el contenido HTML de la web a un contenido `BeautifulSoup()`. La clase `html.parser` tiene el objetivo de analizar el contenido HTML como las etiquetas o las clases."
   ]
  },
  {
   "cell_type": "code",
   "execution_count": 7,
   "id": "33ede272",
   "metadata": {},
   "outputs": [],
   "source": [
    "html = BeautifulSoup(req.text, \"html.parser\")"
   ]
  },
  {
   "cell_type": "markdown",
   "id": "c8ae18ec",
   "metadata": {},
   "source": [
    "#### Variables de datos"
   ]
  },
  {
   "cell_type": "markdown",
   "id": "f4081df5",
   "metadata": {},
   "source": [
    "Los pasos anteriores nos han ayudado a identificar las variables utilizadas para este juego. Definimos las variables `paises`, `oros`, `platas`, `bronces` y `totales` y las identificamos con la función find_all(). Con esta acción localizaremos las coincidencias con el código analizado. La función .find_all recoge los datos de las variables."
   ]
  },
  {
   "cell_type": "code",
   "execution_count": 8,
   "id": "68e99c8c",
   "metadata": {},
   "outputs": [],
   "source": [
    "paises = html.find_all(\"th\",{\"class\":\"pais\"})\n",
    "oros = html.find_all(\"td\",{\"class\":\"m_oro\"})\n",
    "platas = html.find_all(\"td\",{\"class\":\"m_plata\"})\n",
    "bronces = html.find_all(\"td\",{\"class\":\"m_bronce\"})\n",
    "totales = html.find_all(\"td\",{\"class\":\"m_total\"})"
   ]
  },
  {
   "cell_type": "markdown",
   "id": "2e24eacd",
   "metadata": {},
   "source": [
    "### Hacemos la pregunta"
   ]
  },
  {
   "cell_type": "markdown",
   "id": "02d940ae",
   "metadata": {},
   "source": [
    "El input recoge los datos introducidos por pantalla."
   ]
  },
  {
   "cell_type": "code",
   "execution_count": 9,
   "id": "5a36b9bf",
   "metadata": {},
   "outputs": [
    {
     "name": "stdout",
     "output_type": "stream",
     "text": [
      "¿QUIERES CONOCER LOS 20 PAÍSES QUE HAN OBTENIDO MÁS MEDALLAS EN 2020?\n",
      " \n",
      " Si tu respuesta es Sí, presiona \"s\" \n",
      "s\n"
     ]
    }
   ],
   "source": [
    "respuesta=input('¿QUIERES CONOCER LOS 20 PAÍSES QUE HAN OBTENIDO MÁS MEDALLAS EN 2020?\\n \\n Si tu respuesta es Sí, presiona \"s\" \\n')"
   ]
  },
  {
   "cell_type": "markdown",
   "id": "0a06a342",
   "metadata": {},
   "source": [
    "Si introducimos `s`,la variable respuesta recogerá la s y mostrará el listado de los JJOO de 2020. Al presionar 's' mostrará en pantalla la siguiente frase \"RESULTADOS DE LOS DATOS DE LOS JUEGOS OLÍMPICOS 2020\". Si se escribe una letra o palabra distinta no se mostrará la lista de los datos de los Juegos Olímpicos de 2020."
   ]
  },
  {
   "cell_type": "code",
   "execution_count": 10,
   "id": "7a1b6c2b",
   "metadata": {},
   "outputs": [
    {
     "name": "stdout",
     "output_type": "stream",
     "text": [
      "\n",
      "RESULTADOS DE LOS DATOS DE LOS JUEGOS OLÍMPICOS 2020\n",
      "\n"
     ]
    }
   ],
   "source": [
    "if(respuesta == 's'): \n",
    "  print('\\nRESULTADOS DE LOS DATOS DE LOS JUEGOS OLÍMPICOS 2020\\n')"
   ]
  },
  {
   "cell_type": "markdown",
   "id": "2a2d917f",
   "metadata": {},
   "source": [
    "#### Bucle para datos"
   ]
  },
  {
   "cell_type": "markdown",
   "id": "62a05426",
   "metadata": {},
   "source": [
    "Al realizar el bucle se imprimirá por pantalla los resultados de cada país que participí en los Juegos Olímpicos de 2020; y esto se repetirá tantas veces como le hayamos indicado. El bucle for es una estrucutura de control que nos ayuda a identificar el número deseado de iteraciones, en este caso 20."
   ]
  },
  {
   "cell_type": "code",
   "execution_count": 11,
   "id": "c6b042c4",
   "metadata": {},
   "outputs": [
    {
     "name": "stdout",
     "output_type": "stream",
     "text": [
      "\n",
      "RESULTADOS DE LOS DATOS DE LOS JUEGOS OLÍMPICOS 2020\n",
      "\n",
      "PAÍSES\n"
     ]
    }
   ],
   "source": [
    "print('\\nRESULTADOS DE LOS DATOS DE LOS JUEGOS OLÍMPICOS 2020\\n')\n",
    "print ('PAÍSES')"
   ]
  },
  {
   "cell_type": "markdown",
   "id": "d8bdc2b6",
   "metadata": {},
   "source": [
    "La acción for i in range repetirá todo lo que hay dentro del `for` 20 veces, por lo que solo mostrará los 20 primeros países que hayamos recogido. Con esta acción extraemos la tabla en la que podemos ver diferentes variables como: `oro, plata, bronce` y `total`. En el bucle se le indica que imprima la operación `%s \\nOro`.\n",
    "Si no se realiza el bucle se imprimirá: 'Qué lástima, y...'."
   ]
  },
  {
   "cell_type": "code",
   "execution_count": 12,
   "id": "543a2d21",
   "metadata": {},
   "outputs": [
    {
     "name": "stdout",
     "output_type": "stream",
     "text": [
      "1. Estados Unidos \n",
      "Oro: 39 Plata: 41 Bronce: 33 \n",
      " Total: 113 \n",
      " \n",
      "2. China \n",
      "Oro: 38 Plata: 32 Bronce: 18 \n",
      " Total: 88 \n",
      " \n",
      "3. Japón \n",
      "Oro: 27 Plata: 14 Bronce: 17 \n",
      " Total: 58 \n",
      " \n",
      "4. Reino Unido \n",
      "Oro: 22 Plata: 21 Bronce: 22 \n",
      " Total: 65 \n",
      " \n",
      "5. ROC \n",
      "Oro: 20 Plata: 28 Bronce: 23 \n",
      " Total: 71 \n",
      " \n",
      "6. Australia \n",
      "Oro: 17 Plata: 7 Bronce: 22 \n",
      " Total: 46 \n",
      " \n",
      "7. Países Bajos \n",
      "Oro: 10 Plata: 12 Bronce: 14 \n",
      " Total: 36 \n",
      " \n",
      "8. Francia \n",
      "Oro: 10 Plata: 12 Bronce: 11 \n",
      " Total: 33 \n",
      " \n",
      "9. Alemania \n",
      "Oro: 10 Plata: 11 Bronce: 16 \n",
      " Total: 37 \n",
      " \n",
      "10. Italia \n",
      "Oro: 10 Plata: 10 Bronce: 20 \n",
      " Total: 40 \n",
      " \n",
      "11. Canadá \n",
      "Oro: 7 Plata: 6 Bronce: 11 \n",
      " Total: 24 \n",
      " \n",
      "12. Brasil \n",
      "Oro: 7 Plata: 6 Bronce: 8 \n",
      " Total: 21 \n",
      " \n",
      "13. Nueva Zelanda \n",
      "Oro: 7 Plata: 6 Bronce: 7 \n",
      " Total: 20 \n",
      " \n",
      "14. Cuba \n",
      "Oro: 7 Plata: 3 Bronce: 5 \n",
      " Total: 15 \n",
      " \n",
      "15. Hungría \n",
      "Oro: 6 Plata: 7 Bronce: 7 \n",
      " Total: 20 \n",
      " \n",
      "16. Corea del Sur \n",
      "Oro: 6 Plata: 4 Bronce: 10 \n",
      " Total: 20 \n",
      " \n",
      "17. Polonia \n",
      "Oro: 4 Plata: 5 Bronce: 5 \n",
      " Total: 14 \n",
      " \n",
      "18. República Checa \n",
      "Oro: 4 Plata: 4 Bronce: 3 \n",
      " Total: 11 \n",
      " \n",
      "19. Kenia \n",
      "Oro: 4 Plata: 4 Bronce: 2 \n",
      " Total: 10 \n",
      " \n",
      "20. Noruega \n",
      "Oro: 4 Plata: 2 Bronce: 2 \n",
      " Total: 8 \n",
      " \n",
      "Qué lástima, y...\n"
     ]
    }
   ],
   "source": [
    "for i in range (20):\n",
    "    # Con el método \"getText()\" no nos devuelve el HTML\n",
    "    print(\"%d. %s \\nOro: %s Plata: %s Bronce: %s \\n Total: %s \\n \" % (i+1, paises[i+1].text.strip(),oros[i].text.strip(),platas[i].text.strip(),bronces[i].text.strip(), totales[i].text.strip()))\n",
    "\n",
    "else:\n",
    "    print('Qué lástima, y...')\n"
   ]
  },
  {
   "cell_type": "markdown",
   "id": "6d30e485",
   "metadata": {},
   "source": [
    "[Enlace a la ad2](https://github.com/nebrijas/periodismodedatos-mariangeleshr/blob/main/AD2/ad2.md)"
   ]
  }
 ],
 "metadata": {
  "kernelspec": {
   "display_name": "Python 3 (ipykernel)",
   "language": "python",
   "name": "python3"
  },
  "language_info": {
   "codemirror_mode": {
    "name": "ipython",
    "version": 3
   },
   "file_extension": ".py",
   "mimetype": "text/x-python",
   "name": "python",
   "nbconvert_exporter": "python",
   "pygments_lexer": "ipython3",
   "version": "3.9.7"
  }
 },
 "nbformat": 4,
 "nbformat_minor": 5
}
